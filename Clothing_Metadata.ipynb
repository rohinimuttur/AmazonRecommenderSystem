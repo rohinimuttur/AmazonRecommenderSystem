{
 "cells": [
  {
   "cell_type": "code",
   "execution_count": 1,
   "metadata": {},
   "outputs": [],
   "source": [
    "%matplotlib inline\n",
    "import numpy as np\n",
    "import pandas as pd\n",
    "import matplotlib.pyplot as plt\n",
    "from pandas import DataFrame \n",
    "import nltk\n",
    "\n",
    "from sklearn.neighbors import NearestNeighbors\n",
    "from sklearn.linear_model import LogisticRegression\n",
    "from sklearn import neighbors\n",
    "from scipy.spatial.distance import cosine\n",
    "from sklearn.metrics import classification_report\n",
    "from sklearn.metrics import accuracy_score\n",
    "from sklearn.feature_selection import SelectKBest\n",
    "from sklearn.feature_extraction.text import CountVectorizer, TfidfTransformer\n",
    "\n",
    "import re\n",
    "import string\n",
    "from wordcloud import WordCloud, STOPWORDS\n",
    "from sklearn.metrics import mean_squared_error"
   ]
  },
  {
   "cell_type": "code",
   "execution_count": 3,
   "metadata": {},
   "outputs": [],
   "source": [
    "df_meta=pd.read_csv('data/Meta_Clothing_Shoes_Jewelry_Reviews.csv')"
   ]
  },
  {
   "cell_type": "code",
   "execution_count": 6,
   "metadata": {},
   "outputs": [
    {
     "data": {
      "text/plain": [
       "Index(['asin', 'related', 'title', 'price', 'salesRank', 'imUrl', 'brand',\n",
       "       'categories', 'description'],\n",
       "      dtype='object')"
      ]
     },
     "execution_count": 6,
     "metadata": {},
     "output_type": "execute_result"
    }
   ],
   "source": [
    "\n",
    "if 'Unnamed: 0' in df_meta.columns:\n",
    "    del df_meta['Unnamed: 0']\n",
    "else:\n",
    "    exit\n",
    "df_meta.columns\n",
    "\n"
   ]
  },
  {
   "cell_type": "code",
   "execution_count": 9,
   "metadata": {},
   "outputs": [
    {
     "data": {
      "text/html": [
       "<div>\n",
       "<style scoped>\n",
       "    .dataframe tbody tr th:only-of-type {\n",
       "        vertical-align: middle;\n",
       "    }\n",
       "\n",
       "    .dataframe tbody tr th {\n",
       "        vertical-align: top;\n",
       "    }\n",
       "\n",
       "    .dataframe thead th {\n",
       "        text-align: right;\n",
       "    }\n",
       "</style>\n",
       "<table border=\"1\" class=\"dataframe\">\n",
       "  <thead>\n",
       "    <tr style=\"text-align: right;\">\n",
       "      <th></th>\n",
       "      <th>asin</th>\n",
       "      <th>related</th>\n",
       "      <th>title</th>\n",
       "      <th>price</th>\n",
       "      <th>salesRank</th>\n",
       "      <th>imUrl</th>\n",
       "      <th>brand</th>\n",
       "      <th>categories</th>\n",
       "      <th>description</th>\n",
       "    </tr>\n",
       "  </thead>\n",
       "  <tbody>\n",
       "    <tr>\n",
       "      <th>0</th>\n",
       "      <td>0000037214</td>\n",
       "      <td>{'also_viewed': ['B00JO8II76', 'B00DGN4R1Q', '...</td>\n",
       "      <td>Purple Sequin Tiny Dancer Tutu Ballet Dance Fa...</td>\n",
       "      <td>6.99</td>\n",
       "      <td>{'Clothing': 1233557}</td>\n",
       "      <td>http://ecx.images-amazon.com/images/I/31mCncNu...</td>\n",
       "      <td>Big Dreams</td>\n",
       "      <td>[['Clothing, Shoes &amp; Jewelry', 'Girls'], ['Clo...</td>\n",
       "      <td>NaN</td>\n",
       "    </tr>\n",
       "    <tr>\n",
       "      <th>1</th>\n",
       "      <td>0000031887</td>\n",
       "      <td>{'also_bought': ['0000031852', '0000031895', '...</td>\n",
       "      <td>Ballet Dress-Up Fairy Tutu</td>\n",
       "      <td>6.79</td>\n",
       "      <td>{'Sports &amp;amp; Outdoors': 8547}</td>\n",
       "      <td>http://ecx.images-amazon.com/images/I/314qZjYe...</td>\n",
       "      <td>Boutique Cutie</td>\n",
       "      <td>[['Clothing, Shoes &amp; Jewelry', 'Girls', 'Cloth...</td>\n",
       "      <td>This adorable basic ballerina tutu is perfect ...</td>\n",
       "    </tr>\n",
       "    <tr>\n",
       "      <th>2</th>\n",
       "      <td>0123456479</td>\n",
       "      <td>{'also_bought': ['B000BMTCK6', 'B0006JCGUM', '...</td>\n",
       "      <td>SHINING IMAGE HUGE PINK LEATHER JEWELRY BOX / ...</td>\n",
       "      <td>64.98</td>\n",
       "      <td>{'Kitchen &amp; Dining': 16987}</td>\n",
       "      <td>http://ecx.images-amazon.com/images/I/413tGhqo...</td>\n",
       "      <td>NaN</td>\n",
       "      <td>[['Clothing, Shoes &amp; Jewelry', 'Novelty, Costu...</td>\n",
       "      <td>Elegance par excellence. Hand-crafted of the f...</td>\n",
       "    </tr>\n",
       "    <tr>\n",
       "      <th>3</th>\n",
       "      <td>0456844570</td>\n",
       "      <td>{'also_viewed': ['B008MTRT1O', 'B00BUG47S4', '...</td>\n",
       "      <td>RiZ Women's Beautify Crafted &amp;frac12; Rimmed F...</td>\n",
       "      <td>NaN</td>\n",
       "      <td>{'Clothing': 1180499}</td>\n",
       "      <td>http://ecx.images-amazon.com/images/I/31QZTHxv...</td>\n",
       "      <td>NaN</td>\n",
       "      <td>[['Clothing, Shoes &amp; Jewelry', 'Women', 'Acces...</td>\n",
       "      <td>NaN</td>\n",
       "    </tr>\n",
       "    <tr>\n",
       "      <th>4</th>\n",
       "      <td>0456808574</td>\n",
       "      <td>{'also_viewed': ['B00A6JD8EA', 'B00BFL4FTA', '...</td>\n",
       "      <td>Lantin White Visor Wrap Around Ski Style Aviat...</td>\n",
       "      <td>NaN</td>\n",
       "      <td>{'Clothing': 1038084}</td>\n",
       "      <td>http://ecx.images-amazon.com/images/I/31UsrgT5...</td>\n",
       "      <td>NaN</td>\n",
       "      <td>[['Clothing, Shoes &amp; Jewelry', 'Women', 'Acces...</td>\n",
       "      <td>NaN</td>\n",
       "    </tr>\n",
       "    <tr>\n",
       "      <th>5</th>\n",
       "      <td>0456830197</td>\n",
       "      <td>{'also_bought': ['729300236X']}</td>\n",
       "      <td>NVC Unisex Light Weight Silver 'Dakota' Glasse...</td>\n",
       "      <td>NaN</td>\n",
       "      <td>{'Shoes': 257607}</td>\n",
       "      <td>http://ecx.images-amazon.com/images/I/21PGEX1t...</td>\n",
       "      <td>NaN</td>\n",
       "      <td>[['Clothing, Shoes &amp; Jewelry', 'Women', 'Acces...</td>\n",
       "      <td>NaN</td>\n",
       "    </tr>\n",
       "    <tr>\n",
       "      <th>6</th>\n",
       "      <td>0456856293</td>\n",
       "      <td>{'also_viewed': ['B005P1HF2U', 'B006K5JWOE', '...</td>\n",
       "      <td>Kismeth Eyewear Classic Large Top Gun Aviator ...</td>\n",
       "      <td>NaN</td>\n",
       "      <td>{'Shoes': 399415}</td>\n",
       "      <td>http://ecx.images-amazon.com/images/I/31-NheYD...</td>\n",
       "      <td>NaN</td>\n",
       "      <td>[['Clothing, Shoes &amp; Jewelry', 'Women', 'Acces...</td>\n",
       "      <td>NaN</td>\n",
       "    </tr>\n",
       "    <tr>\n",
       "      <th>7</th>\n",
       "      <td>0456840532</td>\n",
       "      <td>{'also_viewed': ['B001K9DPPC', 'B00BV9MU2K', '...</td>\n",
       "      <td>Max-MPH Black - Large Wayfarer Sunglasses Avai...</td>\n",
       "      <td>NaN</td>\n",
       "      <td>{'Clothing': 2728771}</td>\n",
       "      <td>http://ecx.images-amazon.com/images/I/11q4qGCd...</td>\n",
       "      <td>NaN</td>\n",
       "      <td>[['Clothing, Shoes &amp; Jewelry', 'Women', 'Acces...</td>\n",
       "      <td>NaN</td>\n",
       "    </tr>\n",
       "    <tr>\n",
       "      <th>8</th>\n",
       "      <td>0456787283</td>\n",
       "      <td>{'also_viewed': ['B00AIPLH22', 'B005P1H8KO', '...</td>\n",
       "      <td>FX1 Small Adult Aviator Sunglasses with Silver...</td>\n",
       "      <td>NaN</td>\n",
       "      <td>{'Clothing': 456854}</td>\n",
       "      <td>http://ecx.images-amazon.com/images/I/31dS6eGu...</td>\n",
       "      <td>NaN</td>\n",
       "      <td>[['Clothing, Shoes &amp; Jewelry', 'Women', 'Acces...</td>\n",
       "      <td>NaN</td>\n",
       "    </tr>\n",
       "    <tr>\n",
       "      <th>9</th>\n",
       "      <td>0456838384</td>\n",
       "      <td>{'also_viewed': ['B001K9DPPC', 'B0042FHTDK', '...</td>\n",
       "      <td>Riz Small Unisex (Mens/ Womens) Black Classic ...</td>\n",
       "      <td>NaN</td>\n",
       "      <td>{'Clothing': 437391}</td>\n",
       "      <td>http://ecx.images-amazon.com/images/I/31b1J21i...</td>\n",
       "      <td>NaN</td>\n",
       "      <td>[['Clothing, Shoes &amp; Jewelry', 'Women', 'Acces...</td>\n",
       "      <td>NaN</td>\n",
       "    </tr>\n",
       "  </tbody>\n",
       "</table>\n",
       "</div>"
      ],
      "text/plain": [
       "         asin                                            related  \\\n",
       "0  0000037214  {'also_viewed': ['B00JO8II76', 'B00DGN4R1Q', '...   \n",
       "1  0000031887  {'also_bought': ['0000031852', '0000031895', '...   \n",
       "2  0123456479  {'also_bought': ['B000BMTCK6', 'B0006JCGUM', '...   \n",
       "3  0456844570  {'also_viewed': ['B008MTRT1O', 'B00BUG47S4', '...   \n",
       "4  0456808574  {'also_viewed': ['B00A6JD8EA', 'B00BFL4FTA', '...   \n",
       "5  0456830197                    {'also_bought': ['729300236X']}   \n",
       "6  0456856293  {'also_viewed': ['B005P1HF2U', 'B006K5JWOE', '...   \n",
       "7  0456840532  {'also_viewed': ['B001K9DPPC', 'B00BV9MU2K', '...   \n",
       "8  0456787283  {'also_viewed': ['B00AIPLH22', 'B005P1H8KO', '...   \n",
       "9  0456838384  {'also_viewed': ['B001K9DPPC', 'B0042FHTDK', '...   \n",
       "\n",
       "                                               title  price  \\\n",
       "0  Purple Sequin Tiny Dancer Tutu Ballet Dance Fa...   6.99   \n",
       "1                         Ballet Dress-Up Fairy Tutu   6.79   \n",
       "2  SHINING IMAGE HUGE PINK LEATHER JEWELRY BOX / ...  64.98   \n",
       "3  RiZ Women's Beautify Crafted &frac12; Rimmed F...    NaN   \n",
       "4  Lantin White Visor Wrap Around Ski Style Aviat...    NaN   \n",
       "5  NVC Unisex Light Weight Silver 'Dakota' Glasse...    NaN   \n",
       "6  Kismeth Eyewear Classic Large Top Gun Aviator ...    NaN   \n",
       "7  Max-MPH Black - Large Wayfarer Sunglasses Avai...    NaN   \n",
       "8  FX1 Small Adult Aviator Sunglasses with Silver...    NaN   \n",
       "9  Riz Small Unisex (Mens/ Womens) Black Classic ...    NaN   \n",
       "\n",
       "                         salesRank  \\\n",
       "0            {'Clothing': 1233557}   \n",
       "1  {'Sports &amp; Outdoors': 8547}   \n",
       "2      {'Kitchen & Dining': 16987}   \n",
       "3            {'Clothing': 1180499}   \n",
       "4            {'Clothing': 1038084}   \n",
       "5                {'Shoes': 257607}   \n",
       "6                {'Shoes': 399415}   \n",
       "7            {'Clothing': 2728771}   \n",
       "8             {'Clothing': 456854}   \n",
       "9             {'Clothing': 437391}   \n",
       "\n",
       "                                               imUrl           brand  \\\n",
       "0  http://ecx.images-amazon.com/images/I/31mCncNu...      Big Dreams   \n",
       "1  http://ecx.images-amazon.com/images/I/314qZjYe...  Boutique Cutie   \n",
       "2  http://ecx.images-amazon.com/images/I/413tGhqo...             NaN   \n",
       "3  http://ecx.images-amazon.com/images/I/31QZTHxv...             NaN   \n",
       "4  http://ecx.images-amazon.com/images/I/31UsrgT5...             NaN   \n",
       "5  http://ecx.images-amazon.com/images/I/21PGEX1t...             NaN   \n",
       "6  http://ecx.images-amazon.com/images/I/31-NheYD...             NaN   \n",
       "7  http://ecx.images-amazon.com/images/I/11q4qGCd...             NaN   \n",
       "8  http://ecx.images-amazon.com/images/I/31dS6eGu...             NaN   \n",
       "9  http://ecx.images-amazon.com/images/I/31b1J21i...             NaN   \n",
       "\n",
       "                                          categories  \\\n",
       "0  [['Clothing, Shoes & Jewelry', 'Girls'], ['Clo...   \n",
       "1  [['Clothing, Shoes & Jewelry', 'Girls', 'Cloth...   \n",
       "2  [['Clothing, Shoes & Jewelry', 'Novelty, Costu...   \n",
       "3  [['Clothing, Shoes & Jewelry', 'Women', 'Acces...   \n",
       "4  [['Clothing, Shoes & Jewelry', 'Women', 'Acces...   \n",
       "5  [['Clothing, Shoes & Jewelry', 'Women', 'Acces...   \n",
       "6  [['Clothing, Shoes & Jewelry', 'Women', 'Acces...   \n",
       "7  [['Clothing, Shoes & Jewelry', 'Women', 'Acces...   \n",
       "8  [['Clothing, Shoes & Jewelry', 'Women', 'Acces...   \n",
       "9  [['Clothing, Shoes & Jewelry', 'Women', 'Acces...   \n",
       "\n",
       "                                         description  \n",
       "0                                                NaN  \n",
       "1  This adorable basic ballerina tutu is perfect ...  \n",
       "2  Elegance par excellence. Hand-crafted of the f...  \n",
       "3                                                NaN  \n",
       "4                                                NaN  \n",
       "5                                                NaN  \n",
       "6                                                NaN  \n",
       "7                                                NaN  \n",
       "8                                                NaN  \n",
       "9                                                NaN  "
      ]
     },
     "execution_count": 9,
     "metadata": {},
     "output_type": "execute_result"
    }
   ],
   "source": [
    "df_meta.head(10)"
   ]
  },
  {
   "cell_type": "code",
   "execution_count": 15,
   "metadata": {},
   "outputs": [
    {
     "data": {
      "text/plain": [
       "\"{'also_viewed': ['B00JO8II76', 'B00DGN4R1Q', 'B00E1YRI4C']}\""
      ]
     },
     "execution_count": 15,
     "metadata": {},
     "output_type": "execute_result"
    }
   ],
   "source": [
    "df_meta['related'][0]"
   ]
  },
  {
   "cell_type": "code",
   "execution_count": 19,
   "metadata": {},
   "outputs": [
    {
     "data": {
      "text/html": [
       "<div>\n",
       "<style scoped>\n",
       "    .dataframe tbody tr th:only-of-type {\n",
       "        vertical-align: middle;\n",
       "    }\n",
       "\n",
       "    .dataframe tbody tr th {\n",
       "        vertical-align: top;\n",
       "    }\n",
       "\n",
       "    .dataframe thead th {\n",
       "        text-align: right;\n",
       "    }\n",
       "</style>\n",
       "<table border=\"1\" class=\"dataframe\">\n",
       "  <thead>\n",
       "    <tr style=\"text-align: right;\">\n",
       "      <th></th>\n",
       "      <th>asin</th>\n",
       "      <th>related</th>\n",
       "      <th>title</th>\n",
       "      <th>price</th>\n",
       "      <th>salesRank</th>\n",
       "      <th>imUrl</th>\n",
       "      <th>brand</th>\n",
       "      <th>categories</th>\n",
       "      <th>description</th>\n",
       "    </tr>\n",
       "  </thead>\n",
       "  <tbody>\n",
       "    <tr>\n",
       "      <th>1141128</th>\n",
       "      <td>B00BYH9DPG</td>\n",
       "      <td>{'also_bought': ['B00ENOPRIO', 'B00DETR6YM', '...</td>\n",
       "      <td>J.TOMSON Womens Boyfriend Blazer</td>\n",
       "      <td>NaN</td>\n",
       "      <td>{'Clothing': 1950}</td>\n",
       "      <td>http://ecx.images-amazon.com/images/I/41FUlaM1...</td>\n",
       "      <td>NaN</td>\n",
       "      <td>[['Clothing, Shoes &amp; Jewelry', 'Women', 'Cloth...</td>\n",
       "      <td>NaN</td>\n",
       "    </tr>\n",
       "  </tbody>\n",
       "</table>\n",
       "</div>"
      ],
      "text/plain": [
       "               asin                                            related  \\\n",
       "1141128  B00BYH9DPG  {'also_bought': ['B00ENOPRIO', 'B00DETR6YM', '...   \n",
       "\n",
       "                                    title  price           salesRank  \\\n",
       "1141128  J.TOMSON Womens Boyfriend Blazer    NaN  {'Clothing': 1950}   \n",
       "\n",
       "                                                     imUrl brand  \\\n",
       "1141128  http://ecx.images-amazon.com/images/I/41FUlaM1...   NaN   \n",
       "\n",
       "                                                categories description  \n",
       "1141128  [['Clothing, Shoes & Jewelry', 'Women', 'Cloth...         NaN  "
      ]
     },
     "execution_count": 19,
     "metadata": {},
     "output_type": "execute_result"
    }
   ],
   "source": [
    "df_meta[df_meta.eq('B00BYH9DPG').any(1)]"
   ]
  },
  {
   "cell_type": "code",
   "execution_count": 22,
   "metadata": {},
   "outputs": [
    {
     "data": {
      "text/html": [
       "<div>\n",
       "<style scoped>\n",
       "    .dataframe tbody tr th:only-of-type {\n",
       "        vertical-align: middle;\n",
       "    }\n",
       "\n",
       "    .dataframe tbody tr th {\n",
       "        vertical-align: top;\n",
       "    }\n",
       "\n",
       "    .dataframe thead th {\n",
       "        text-align: right;\n",
       "    }\n",
       "</style>\n",
       "<table border=\"1\" class=\"dataframe\">\n",
       "  <thead>\n",
       "    <tr style=\"text-align: right;\">\n",
       "      <th></th>\n",
       "      <th>asin</th>\n",
       "      <th>related</th>\n",
       "      <th>title</th>\n",
       "      <th>price</th>\n",
       "      <th>salesRank</th>\n",
       "      <th>imUrl</th>\n",
       "      <th>brand</th>\n",
       "      <th>categories</th>\n",
       "      <th>description</th>\n",
       "    </tr>\n",
       "  </thead>\n",
       "  <tbody>\n",
       "    <tr>\n",
       "      <th>870255</th>\n",
       "      <td>B008P7L92S</td>\n",
       "      <td>{'also_bought': ['B00J2L4EUA', 'B00902G8RS', '...</td>\n",
       "      <td>Allegra K Women's 2-Fer Bracelet Sleeve Ruched...</td>\n",
       "      <td>NaN</td>\n",
       "      <td>{'Clothing': 3909}</td>\n",
       "      <td>http://ecx.images-amazon.com/images/I/41lN%2Bk...</td>\n",
       "      <td>NaN</td>\n",
       "      <td>[['Clothing, Shoes &amp; Jewelry', 'Women', 'Cloth...</td>\n",
       "      <td>NaN</td>\n",
       "    </tr>\n",
       "  </tbody>\n",
       "</table>\n",
       "</div>"
      ],
      "text/plain": [
       "              asin                                            related  \\\n",
       "870255  B008P7L92S  {'also_bought': ['B00J2L4EUA', 'B00902G8RS', '...   \n",
       "\n",
       "                                                    title  price  \\\n",
       "870255  Allegra K Women's 2-Fer Bracelet Sleeve Ruched...    NaN   \n",
       "\n",
       "                 salesRank                                              imUrl  \\\n",
       "870255  {'Clothing': 3909}  http://ecx.images-amazon.com/images/I/41lN%2Bk...   \n",
       "\n",
       "       brand                                         categories description  \n",
       "870255   NaN  [['Clothing, Shoes & Jewelry', 'Women', 'Cloth...         NaN  "
      ]
     },
     "execution_count": 22,
     "metadata": {},
     "output_type": "execute_result"
    }
   ],
   "source": [
    "df_meta[df_meta.eq('B008P7L92S').any(1)]"
   ]
  },
  {
   "cell_type": "code",
   "execution_count": 1,
   "metadata": {},
   "outputs": [],
   "source": [
    "import ast"
   ]
  },
  {
   "cell_type": "code",
   "execution_count": 5,
   "metadata": {},
   "outputs": [
    {
     "ename": "SyntaxError",
     "evalue": "invalid syntax (<ipython-input-5-b7f100cba4a2>, line 1)",
     "output_type": "error",
     "traceback": [
      "\u001b[1;36m  File \u001b[1;32m\"<ipython-input-5-b7f100cba4a2>\"\u001b[1;36m, line \u001b[1;32m1\u001b[0m\n\u001b[1;33m    ast.literal_eval('['B00AM481BO' 'Top Moda Women Pack-72 Boots' 'http://ecx.images-amazon.com/images/I/41UqolGlSkL._SY395_.jpg']')\u001b[0m\n\u001b[1;37m                                 ^\u001b[0m\n\u001b[1;31mSyntaxError\u001b[0m\u001b[1;31m:\u001b[0m invalid syntax\n"
     ]
    }
   ],
   "source": [
    "ast.literal_eval('['B00AM481BO' 'Top Moda Women Pack-72 Boots' 'http://ecx.images-amazon.com/images/I/41UqolGlSkL._SY395_.jpg']')"
   ]
  },
  {
   "cell_type": "code",
   "execution_count": 7,
   "metadata": {},
   "outputs": [
    {
     "ename": "SyntaxError",
     "evalue": "invalid syntax (<ipython-input-7-2b3f82f0ebdd>, line 1)",
     "output_type": "error",
     "traceback": [
      "\u001b[1;36m  File \u001b[1;32m\"<ipython-input-7-2b3f82f0ebdd>\"\u001b[1;36m, line \u001b[1;32m1\u001b[0m\n\u001b[1;33m    type('['B00AM481BO' 'Top Moda Women Pack-72 Boots' 'http://ecx.images-amazon.com/images/I/41UqolGlSkL._SY395_.jpg']')\u001b[0m\n\u001b[1;37m                     ^\u001b[0m\n\u001b[1;31mSyntaxError\u001b[0m\u001b[1;31m:\u001b[0m invalid syntax\n"
     ]
    }
   ],
   "source": [
    "type('['B00AM481BO' 'Top Moda Women Pack-72 Boots' 'http://ecx.images-amazon.com/images/I/41UqolGlSkL._SY395_.jpg']')"
   ]
  },
  {
   "cell_type": "code",
   "execution_count": null,
   "metadata": {},
   "outputs": [],
   "source": []
  }
 ],
 "metadata": {
  "kernelspec": {
   "display_name": "Python 3",
   "language": "python",
   "name": "python3"
  },
  "language_info": {
   "codemirror_mode": {
    "name": "ipython",
    "version": 3
   },
   "file_extension": ".py",
   "mimetype": "text/x-python",
   "name": "python",
   "nbconvert_exporter": "python",
   "pygments_lexer": "ipython3",
   "version": "3.7.0"
  }
 },
 "nbformat": 4,
 "nbformat_minor": 2
}
